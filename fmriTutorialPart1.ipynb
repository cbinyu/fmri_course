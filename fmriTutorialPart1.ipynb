{
 "cells": [
  {
   "cell_type": "code",
   "execution_count": null,
   "metadata": {},
   "outputs": [],
   "source": [
    "#TODO here:\n",
    "#1. Perhaps add some info on numpy arrays\n",
    "#2. See if I can better end the plotseries function so that it doesn't end with an error\n",
    "    (https://scipy-cookbook.readthedocs.io/items/Matplotlib_Interactive_Plotting.html)\n",
    "#3. Add more questions and answer boxes??"
   ]
  },
  {
   "cell_type": "code",
   "execution_count": 1,
   "metadata": {},
   "outputs": [],
   "source": [
    "import os\n",
    "import numpy as np\n",
    "import nibabel as nib\n",
    "import matplotlib.pyplot as plt\n",
    "import time\n",
    "import ipywidgets as widgets\n",
    "import tkinter"
   ]
  },
  {
   "cell_type": "markdown",
   "metadata": {},
   "source": [
    "## Preliminaries\n",
    "\n",
    "Authored by *David J. Heeger*  1/26/2004<br>\n",
    "Translated into Python by *Chrysa Papadaniil* 7/21 <br>\n",
    "\n",
    "This tutorial demonstrates how to load and view some fMRI data in Python.\n",
    "In the process it provides some examples of Python code that you can use to build your own more sophisticated analysis tools.\n",
    "\n",
    "To run the tutorial, you read the comments (like this one) and evaluate\n",
    "the code in the cells below it. Read the code as you go to see how it works. To\n",
    "evaluate the code for each cell, you can either: 1) press press SHIFT+ENTER, or 2) press the play button in the toolbar above."
   ]
  },
  {
   "cell_type": "code",
   "execution_count": 5,
   "metadata": {},
   "outputs": [],
   "source": [
    "#Paths for tutorials and for data\n",
    "data_path = os.getcwd() + '/data/CannedData_DS/'"
   ]
  },
  {
   "cell_type": "markdown",
   "metadata": {},
   "source": [
    "## Loading and displaying MRI images"
   ]
  },
  {
   "cell_type": "markdown",
   "metadata": {},
   "source": [
    "Directory CannedData_DS has 5 subdirectories:\n",
    "    \n",
    "08+Bold_030314<br>\n",
    "09+Bold_030314<br>\n",
    "10+Bold_030314<br>\n",
    "11+t1_se_tra_concat_2<br>\n",
    "12+t1_mprage_sag\n",
    "\n",
    "Series 08, 09, 10 contain functional data. Series 11 contains the\n",
    "inplane anatomical images with the same slice prescription as the\n",
    "functional data. Series 12 contains high-resolution mprage anatomical\n",
    "images.\n",
    "\n",
    "Let's load the inplane images. We will use the NiBabel package provides tools for using python to read and write MRI-related file types like .hdr, .img, and .nii."
   ]
  },
  {
   "cell_type": "code",
   "execution_count": 7,
   "metadata": {},
   "outputs": [
    {
     "name": "stderr",
     "output_type": "stream",
     "text": [
      "//anaconda3/lib/python3.7/site-packages/ipykernel_launcher.py:1: DeprecationWarning: get_data() is deprecated in favor of get_fdata(), which has a more predictable return type. To obtain get_data() behavior going forward, use numpy.asanyarray(img.dataobj).\n",
      "\n",
      "* deprecated from version: 3.0\n",
      "* Will raise <class 'nibabel.deprecator.ExpiredDeprecationError'> as of version: 5.0\n",
      "  \"\"\"Entry point for launching an IPython kernel.\n"
     ]
    }
   ],
   "source": [
    "inplane = nib.load(data_path + '/11+t1_se_tra_concat_2/DS030975+11+t1_sra_concat_2.img').get_data() "
   ]
  },
  {
   "cell_type": "markdown",
   "metadata": {},
   "source": [
    "The variable 'inplane' now contains an array of image data. The size of the array is:"
   ]
  },
  {
   "cell_type": "code",
   "execution_count": 8,
   "metadata": {},
   "outputs": [
    {
     "data": {
      "text/plain": [
       "(128, 128, 35)"
      ]
     },
     "execution_count": 8,
     "metadata": {},
     "output_type": "execute_result"
    }
   ],
   "source": [
    "inplane.shape"
   ]
  },
  {
   "cell_type": "markdown",
   "metadata": {},
   "source": [
    "The first index is the x-coordinate. The second index is the y-coordinate. And the third index is the slice. To pull out the 10th slice, evaluate:"
   ]
  },
  {
   "cell_type": "code",
   "execution_count": 5,
   "metadata": {},
   "outputs": [],
   "source": [
    "slice10 = inplane[:,:,9];"
   ]
  },
  {
   "cell_type": "markdown",
   "metadata": {},
   "source": [
    "If you are not familiar with the colon syntax in Python, then you should learn about it. You'll be seeing quite a lot of it.\n",
    "\n",
    "Load the hi-res mprage anatomical images:"
   ]
  },
  {
   "cell_type": "code",
   "execution_count": 6,
   "metadata": {},
   "outputs": [],
   "source": [
    "mprage = nib.load(data_path + '/12+t1_mprage_sag/DS030975+12+t1_mprage_sag.img').get_data() "
   ]
  },
  {
   "cell_type": "markdown",
   "metadata": {},
   "source": [
    "<div class=\"alert alert-info\" role=\"alert\">\n",
    "  <strong>Question</strong> <br>\n",
    "    What is the size of the mprage images?\n",
    "</div>"
   ]
  },
  {
   "cell_type": "markdown",
   "metadata": {},
   "source": [
    "<div class=\"alert alert-warning\" role=\"alert\">\n",
    "  <strong>Your Answer</strong> <br>\n",
    "  Delete this text and put your answer here.\n",
    "</div>"
   ]
  },
  {
   "cell_type": "markdown",
   "metadata": {},
   "source": [
    "Load the data from the first functional MRI scan:"
   ]
  },
  {
   "cell_type": "code",
   "execution_count": 7,
   "metadata": {},
   "outputs": [],
   "source": [
    "bold_1 = nib.load(data_path + '/08+Bold_030314/DS030975+08+Bold_030314.img').get_data() "
   ]
  },
  {
   "cell_type": "markdown",
   "metadata": {},
   "source": [
    "Let's view the inplane images first. This little widget allows you to drag the slider to change the slice that we are taking, letting us move back and forth through the brain viewing a series of 2D views.\n",
    "\n",
    "Give it a try."
   ]
  },
  {
   "cell_type": "code",
   "execution_count": 8,
   "metadata": {},
   "outputs": [
    {
     "data": {
      "application/vnd.jupyter.widget-view+json": {
       "model_id": "34b305e737f4416aa9a61a0b14f46b69",
       "version_major": 2,
       "version_minor": 0
      },
      "text/plain": [
       "interactive(children=(IntSlider(value=0, description='slice', max=34), Output()), _dom_classes=('widget-intera…"
      ]
     },
     "metadata": {},
     "output_type": "display_data"
    }
   ],
   "source": [
    "@widgets.interact(slice=widgets.IntSlider(min=0, max=inplane.shape[2]-1, step=1, value=0))\n",
    "def plot_anatomy(slice):\n",
    "    fig, ax = plt.subplots(1, 1, figsize=[10,10])\n",
    "    ax.imshow(np.rot90(inplane[:, :, slice]),'gray')\n",
    "    fig.subplots_adjust(wspace=0, hspace=0)\n",
    "    plt.show()"
   ]
  },
  {
   "cell_type": "markdown",
   "metadata": {},
   "source": [
    "The function \"plot_anatomy\" automatically chooses how to rescale the images for display. You can also control the rescaling yourself, which comes in handy to help visualize certain aspects of the images more clearly. Remember that the images arrays are just filled with numbers. We display them by converting those numbers to grayscale intensities.\n",
    "\n",
    "Let's redisplay the inplanes by clipping values below 200 and above 800."
   ]
  },
  {
   "cell_type": "code",
   "execution_count": 9,
   "metadata": {},
   "outputs": [
    {
     "data": {
      "application/vnd.jupyter.widget-view+json": {
       "model_id": "1b0647e8ad17470cb0e76e151504b61b",
       "version_major": 2,
       "version_minor": 0
      },
      "text/plain": [
       "interactive(children=(IntSlider(value=0, description='slice', max=34), Output()), _dom_classes=('widget-intera…"
      ]
     },
     "metadata": {},
     "output_type": "display_data"
    }
   ],
   "source": [
    "@widgets.interact(slice=widgets.IntSlider(min=0, max=inplane.shape[2]-1, step=1, value=0))\n",
    "def plot_anatomy(slice):\n",
    "    fig, ax = plt.subplots(1, 1, figsize=[10,10])\n",
    "    ax.imshow(np.rot90(inplane[:, :, slice]),'gray').set_clim(200, 800)\n",
    "    fig.subplots_adjust(wspace=0, hspace=0)\n",
    "    plt.show()"
   ]
  },
  {
   "cell_type": "markdown",
   "metadata": {},
   "source": [
    "Now display the hires mprage anatomical images:"
   ]
  },
  {
   "cell_type": "code",
   "execution_count": 10,
   "metadata": {},
   "outputs": [
    {
     "data": {
      "application/vnd.jupyter.widget-view+json": {
       "model_id": "facdb93ffc3a450a9c69045438075185",
       "version_major": 2,
       "version_minor": 0
      },
      "text/plain": [
       "interactive(children=(IntSlider(value=0, description='slice', max=255), Output()), _dom_classes=('widget-inter…"
      ]
     },
     "metadata": {},
     "output_type": "display_data"
    }
   ],
   "source": [
    "@widgets.interact(slice=widgets.IntSlider(min=0, max=mprage.shape[2]-1, step=1, value=0))\n",
    "def plot_anatomy(slice):\n",
    "    fig, ax = plt.subplots(1, 1, figsize=[10,10])\n",
    "    ax.imshow(np.rot90(mprage[:, :, slice]),'gray').set_clim(50, 800)\n",
    "    fig.subplots_adjust(wspace=0, hspace=0)\n",
    "    plt.show()"
   ]
  },
  {
   "cell_type": "markdown",
   "metadata": {},
   "source": [
    "For your orientation, we are looking at the person's brain from the top with slice 0 being the lowest one and slice 256 at the top of the head. The slices above are axial (horizontal) slices (from bottom to top). \n",
    "\n",
    "You can redisplay the hires mprage in saggital slices:"
   ]
  },
  {
   "cell_type": "code",
   "execution_count": 11,
   "metadata": {},
   "outputs": [
    {
     "data": {
      "application/vnd.jupyter.widget-view+json": {
       "model_id": "373cbe2ab53c4cbdbf3f5a2d6f89ba42",
       "version_major": 2,
       "version_minor": 0
      },
      "text/plain": [
       "interactive(children=(IntSlider(value=0, description='slice', max=175), Output()), _dom_classes=('widget-inter…"
      ]
     },
     "metadata": {},
     "output_type": "display_data"
    }
   ],
   "source": [
    "@widgets.interact(slice=widgets.IntSlider(min=0, max=mprage.shape[0]-1, step=1, value=0))\n",
    "def plot_anatomy(slice):\n",
    "    fig, ax = plt.subplots(1, 1, figsize=[10,10])\n",
    "    ax.imshow(np.rot90(mprage[slice, :, :]),'gray').set_clim(50, 800)\n",
    "    fig.subplots_adjust(wspace=0, hspace=0)\n",
    "    plt.show()"
   ]
  },
  {
   "cell_type": "markdown",
   "metadata": {},
   "source": [
    "And coronal (from back to front):"
   ]
  },
  {
   "cell_type": "code",
   "execution_count": 12,
   "metadata": {},
   "outputs": [
    {
     "data": {
      "application/vnd.jupyter.widget-view+json": {
       "model_id": "f3d1a9e3f02447b786d3c1a6ccec9c49",
       "version_major": 2,
       "version_minor": 0
      },
      "text/plain": [
       "interactive(children=(IntSlider(value=0, description='slice', max=255), Output()), _dom_classes=('widget-inter…"
      ]
     },
     "metadata": {},
     "output_type": "display_data"
    }
   ],
   "source": [
    "@widgets.interact(slice=widgets.IntSlider(min=0, max=mprage.shape[1]-1, step=1, value=0))\n",
    "def plot_anatomy(slice):\n",
    "    fig, ax = plt.subplots(1, 1, figsize=[10,10])\n",
    "    ax.imshow(np.rot90(mprage[:, slice, :]),'gray').set_clim(50, 800)\n",
    "    fig.subplots_adjust(wspace=0, hspace=0)\n",
    "    plt.show()"
   ]
  },
  {
   "cell_type": "markdown",
   "metadata": {},
   "source": [
    "The functional data are stored in a 4D array, where the fourth dimension is time so that the indices correspond to [x y z t]:"
   ]
  },
  {
   "cell_type": "code",
   "execution_count": 13,
   "metadata": {},
   "outputs": [
    {
     "data": {
      "text/plain": [
       "(64, 64, 35, 131)"
      ]
     },
     "execution_count": 13,
     "metadata": {},
     "output_type": "execute_result"
    }
   ],
   "source": [
    "bold_1.shape"
   ]
  },
  {
   "cell_type": "markdown",
   "metadata": {},
   "source": [
    "<div class=\"alert alert-info\" role=\"alert\">\n",
    "  <strong>Question</strong> <br>\n",
    "    How many timepoints are in the functional data? Why are the first three dimensions different than the ones in the anatomical data?\n",
    "</div>"
   ]
  },
  {
   "cell_type": "markdown",
   "metadata": {},
   "source": [
    "<div class=\"alert alert-warning\" role=\"alert\">\n",
    "  <strong>Your Answer</strong> <br>\n",
    "  Delete this text and put your answer here.\n",
    "</div>"
   ]
  },
  {
   "cell_type": "markdown",
   "metadata": {},
   "source": [
    "If we want to view 2D views of the fuctional data we need to select a plane in which we \"cut\" or slice the brain like in the structural image, but we also have a fourth dimension of time that is 131 elements long.\n",
    "\n",
    "So if we want to plot we need to choose one of the spatial dimensions to slice through and also a single timepoint for which we'd like to see that plane.\n",
    "\n",
    "Here is a version of the slider image we looked at before using the anatomical data."
   ]
  },
  {
   "cell_type": "code",
   "execution_count": 14,
   "metadata": {},
   "outputs": [
    {
     "data": {
      "application/vnd.jupyter.widget-view+json": {
       "model_id": "8fdee60a9f8846ca99d9c89da724743f",
       "version_major": 2,
       "version_minor": 0
      },
      "text/plain": [
       "interactive(children=(IntSlider(value=0, description='slice', max=34), Output()), _dom_classes=('widget-intera…"
      ]
     },
     "metadata": {},
     "output_type": "display_data"
    }
   ],
   "source": [
    "@widgets.interact(slice=widgets.IntSlider(min=0, max=bold_1.shape[2]-1, step=1, value=0))\n",
    "def plot_functional(slice):\n",
    "    tp=4\n",
    "    fig, ax = plt.subplots(1, 1, figsize=[10,10])\n",
    "    ax.imshow(np.rot90(bold_1[:, :, slice, tp]),'gray')\n",
    "    fig.subplots_adjust(wspace=0, hspace=0)\n",
    "    plt.show()"
   ]
  },
  {
   "cell_type": "markdown",
   "metadata": {},
   "source": [
    "Note that the image quality is pretty crummy compared to the anatomical images that you've been viewing up until now. That's because each full volume of functional images was acquired every 2 sec whereas it took several minutes to acquire the anatomical images. The functional images are acquired in a different way to be sensitive to variations in bold oxygen level dependent (BOLD) signal over time."
   ]
  },
  {
   "cell_type": "markdown",
   "metadata": {},
   "source": [
    "Let's now plot the time series (image intensity over time) for an individual voxel."
   ]
  },
  {
   "cell_type": "code",
   "execution_count": 15,
   "metadata": {},
   "outputs": [
    {
     "data": {
      "image/png": "[encoded data removed]",
      "text/plain": [
       "<Figure size 1296x360 with 1 Axes>"
      ]
     },
     "metadata": {
      "needs_background": "light"
     },
     "output_type": "display_data"
    }
   ],
   "source": [
    "fig, ax = plt.subplots(1, 1, figsize=[18, 5])\n",
    "ax.plot(bold_1[32,54,10,:], lw=3)\n",
    "ax.set_xlim([0, bold_1.shape[3]])\n",
    "plt.show()"
   ]
  },
  {
   "cell_type": "markdown",
   "metadata": {},
   "source": [
    "Try another one."
   ]
  },
  {
   "cell_type": "code",
   "execution_count": 38,
   "metadata": {},
   "outputs": [],
   "source": [
    "fig, ax = plt.subplots(1, 1, figsize=[18, 5])\n",
    "ax.plot(bold_1[32,12,10,:], lw=3)\n",
    "ax.set_xlim([0, bold_1.shape[3]])\n",
    "plt.show()"
   ]
  },
  {
   "cell_type": "markdown",
   "metadata": {},
   "source": [
    "This was a visual stimulation experiment in which a stimulus was displayed in the right hemifield for 10 seconds and then in the left hemifield for the next 10 seconds. So you should see a modulation in time series at locations in visual cortex that are stimulated by either the left or right halves of the visual field."
   ]
  },
  {
   "cell_type": "markdown",
   "metadata": {},
   "source": [
    "The function 'plotTseries' lets you do this interactively. Take a look at the source code for this function. Because the inplanes are registered with the functional images, we display an inplane slice to click on and then extract the corresponding time series from the functionals. Try to find some interesting voxels. The function 'ginput' prompts you to select a pixel by clicking on the figure. Click left to select a point. Close the window to quit and try a different slice. "
   ]
  },
  {
   "cell_type": "code",
   "execution_count": 35,
   "metadata": {},
   "outputs": [],
   "source": [
    "def plotTseries(inplane,bold,slice,TR):\n",
    "    \n",
    "    #compute duration in seconds for use later in making the plot\n",
    "    duration = TR*bold.shape[3]\n",
    "    timepoints = np.arange(TR,duration, TR)\n",
    "    \n",
    "    #display the inplane\n",
    "    %matplotlib qt\n",
    "    fig, [ax1, ax2] = plt.subplots(nrows=2, ncols=1, figsize=[20,25], gridspec_kw={'height_ratios': [2, 1]})\n",
    "    ax1.imshow(np.rot90(inplane[:, :, slice]),'gray')\n",
    "\n",
    "    while True:\n",
    "        # Get mouse click on inplane\n",
    "        pts = plt.ginput(n=1, timeout=4)\n",
    "        x0 = pts[0][0]\n",
    "        y0 = pts[0][1]\n",
    "        # Divide x and y coordinates by 2 because inplane resolution is \n",
    "        # twice that of the functional images\n",
    "        x0=round(x0/2)\n",
    "        y0=round(y0/2)\n",
    "        ax2.clear()\n",
    "        # Plot the chosen voxel time series\n",
    "        ax2.plot(bold_1[x0,y0,slice,:], lw=3)\n",
    "        ax2.set_xlim([0, bold_1.shape[3]])\n",
    "        ax2.set_xlabel('Time [s]', fontsize=8)\n",
    "        ax2.set_ylabel('Image intensity', fontsize=8)\n",
    "        ax2.set_title('Voxel time course', fontsize=8)\n",
    "        ax2.tick_params(labelsize=8)\n",
    "        plt.show()"
   ]
  },
  {
   "cell_type": "code",
   "execution_count": 37,
   "metadata": {},
   "outputs": [
    {
     "ename": "IndexError",
     "evalue": "list index out of range",
     "output_type": "error",
     "traceback": [
      "\u001b[0;31m---------------------------------------------------------------------------\u001b[0m",
      "\u001b[0;31mIndexError\u001b[0m                                Traceback (most recent call last)",
      "\u001b[0;32m<ipython-input-37-42f6e622a1b8>\u001b[0m in \u001b[0;36m<module>\u001b[0;34m\u001b[0m\n\u001b[1;32m      1\u001b[0m \u001b[0mslice\u001b[0m \u001b[0;34m=\u001b[0m \u001b[0;36m10\u001b[0m\u001b[0;34m;\u001b[0m\u001b[0;34m\u001b[0m\u001b[0;34m\u001b[0m\u001b[0m\n\u001b[1;32m      2\u001b[0m \u001b[0mTR\u001b[0m \u001b[0;34m=\u001b[0m \u001b[0;36m2\u001b[0m\u001b[0;34m;\u001b[0m\u001b[0;34m\u001b[0m\u001b[0;34m\u001b[0m\u001b[0m\n\u001b[0;32m----> 3\u001b[0;31m \u001b[0mplotTseries\u001b[0m\u001b[0;34m(\u001b[0m\u001b[0minplane\u001b[0m\u001b[0;34m,\u001b[0m\u001b[0mbold1\u001b[0m\u001b[0;34m,\u001b[0m\u001b[0mslice\u001b[0m\u001b[0;34m,\u001b[0m\u001b[0mTR\u001b[0m\u001b[0;34m)\u001b[0m\u001b[0;34m\u001b[0m\u001b[0;34m\u001b[0m\u001b[0m\n\u001b[0m",
      "\u001b[0;32m<ipython-input-35-1d50c01808ab>\u001b[0m in \u001b[0;36mplotTseries\u001b[0;34m(inplane, bold, slice, TR)\u001b[0m\n\u001b[1;32m     13\u001b[0m         \u001b[0;31m# Get mouse click on inplane\u001b[0m\u001b[0;34m\u001b[0m\u001b[0;34m\u001b[0m\u001b[0;34m\u001b[0m\u001b[0m\n\u001b[1;32m     14\u001b[0m         \u001b[0mpts\u001b[0m \u001b[0;34m=\u001b[0m \u001b[0mplt\u001b[0m\u001b[0;34m.\u001b[0m\u001b[0mginput\u001b[0m\u001b[0;34m(\u001b[0m\u001b[0mn\u001b[0m\u001b[0;34m=\u001b[0m\u001b[0;36m1\u001b[0m\u001b[0;34m,\u001b[0m \u001b[0mtimeout\u001b[0m\u001b[0;34m=\u001b[0m\u001b[0;36m4\u001b[0m\u001b[0;34m)\u001b[0m\u001b[0;34m\u001b[0m\u001b[0;34m\u001b[0m\u001b[0m\n\u001b[0;32m---> 15\u001b[0;31m         \u001b[0mx0\u001b[0m \u001b[0;34m=\u001b[0m \u001b[0mpts\u001b[0m\u001b[0;34m[\u001b[0m\u001b[0;36m0\u001b[0m\u001b[0;34m]\u001b[0m\u001b[0;34m[\u001b[0m\u001b[0;36m0\u001b[0m\u001b[0;34m]\u001b[0m\u001b[0;34m\u001b[0m\u001b[0;34m\u001b[0m\u001b[0m\n\u001b[0m\u001b[1;32m     16\u001b[0m         \u001b[0my0\u001b[0m \u001b[0;34m=\u001b[0m \u001b[0mpts\u001b[0m\u001b[0;34m[\u001b[0m\u001b[0;36m0\u001b[0m\u001b[0;34m]\u001b[0m\u001b[0;34m[\u001b[0m\u001b[0;36m1\u001b[0m\u001b[0;34m]\u001b[0m\u001b[0;34m\u001b[0m\u001b[0;34m\u001b[0m\u001b[0m\n\u001b[1;32m     17\u001b[0m         \u001b[0;31m# Divide x and y coordinates by 2 because inplane resolution is\u001b[0m\u001b[0;34m\u001b[0m\u001b[0;34m\u001b[0m\u001b[0;34m\u001b[0m\u001b[0m\n",
      "\u001b[0;31mIndexError\u001b[0m: list index out of range"
     ]
    },
    {
     "name": "stderr",
     "output_type": "stream",
     "text": [
      "//anaconda3/lib/python3.7/site-packages/ipykernel/eventloops.py:106: UserWarning: aspect is not supported for Axes with xscale=log, yscale=linear\n",
      "  app.exec_()\n"
     ]
    }
   ],
   "source": [
    "slice = 10;\n",
    "TR = 2;\n",
    "plotTseries(inplane,bold_1,slice,TR)"
   ]
  },
  {
   "cell_type": "code",
   "execution_count": null,
   "metadata": {},
   "outputs": [],
   "source": []
  }
 ],
 "metadata": {
  "kernelspec": {
   "display_name": "Python 3",
   "language": "python",
   "name": "python3"
  },
  "language_info": {
   "codemirror_mode": {
    "name": "ipython",
    "version": 3
   },
   "file_extension": ".py",
   "mimetype": "text/x-python",
   "name": "python",
   "nbconvert_exporter": "python",
   "pygments_lexer": "ipython3",
   "version": "3.7.4"
  }
 },
 "nbformat": 4,
 "nbformat_minor": 2
}
